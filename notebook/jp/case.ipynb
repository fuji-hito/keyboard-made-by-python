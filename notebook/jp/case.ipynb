{
 "cells": [
  {
   "attachments": {},
   "cell_type": "markdown",
   "metadata": {},
   "source": [
    "# ケースを作る\n",
    "cadqueryを使って3Dモデリングし、3Dプリントできるケースを作ります。\n",
    "\n",
    "google colaboratoryではOSの都合上cadqueryのビューアーが使えないため、binderでノートブックを開いています。   \n",
    "binderはDockerを使ってOSや必要なライブラリを予め構成してjupyter notebookが使えます。   \n",
    "そのため、ライブラリなどのインストールは必要ありません。"
   ]
  },
  {
   "attachments": {},
   "cell_type": "markdown",
   "metadata": {},
   "source": [
    "# cadqueryとは\n",
    "[cadquery](https://github.com/CadQuery/cadquery)はpythonのコードを書いて3Dモデルを生成する環境です。\n",
    "ビューアーには[jupyter_cadquery](https://github.com/bernhard-42/jupyter-cadquery)を使用します。\n",
    "\n",
    "- cadquery https://github.com/CadQuery/cadquery\n",
    "- cadqueryのドキュメント https://cadquery-ja.readthedocs.io/ja/latest/\n",
    "- jupyter-cadquery https://github.com/bernhard-42/jupyter-cadquery\n",
    "\n",
    "環境を用意します。下のセルを実行してバージョン情報が表示されるビューアーが開くことを確認してください。"
   ]
  },
  {
   "cell_type": "code",
   "execution_count": null,
   "metadata": {},
   "outputs": [],
   "source": [
    "import cadquery as cq\n",
    "\n",
    "from jupyter_cadquery import (\n",
    "    versions,\n",
    "    show, PartGroup, Part, \n",
    "    get_viewer, close_viewer, get_viewers, close_viewers, open_viewer, set_defaults, get_defaults, open_viewer,\n",
    "    get_pick,\n",
    ")\n",
    "\n",
    "from jupyter_cadquery.replay import replay, enable_replay, disable_replay\n",
    "\n",
    "enable_replay(False)\n",
    "\n",
    "set_defaults(\n",
    "    cad_width=640, \n",
    "    height=480, \n",
    ")\n",
    "\n",
    "print()\n",
    "versions()\n",
    "\n",
    "cv = open_viewer(\"CadQuery\", anchor=\"right\")"
   ]
  },
  {
   "attachments": {},
   "cell_type": "markdown",
   "metadata": {},
   "source": [
    "## 試してみる\n",
    "簡単な直方体を生成してビューアーに表示します。"
   ]
  },
  {
   "cell_type": "code",
   "execution_count": null,
   "metadata": {},
   "outputs": [],
   "source": [
    "# xy平面上から直方体を作ってエッジにフィレットをかける\n",
    "box = cq.Workplane('XY').box(1, 2, 3).edges().fillet(0.1)\n",
    "# デフォルトのビューアーに表示する\n",
    "show(box)"
   ]
  },
  {
   "attachments": {},
   "cell_type": "markdown",
   "metadata": {},
   "source": [
    "# ケースを作る\n",
    "基板をネジで固定するトレイ型のケースを設計します。\n",
    "\n",
    "基板の形を元におおまかな外形を作ります。例に漏れず、定数を宣言して使いまわします。"
   ]
  },
  {
   "cell_type": "code",
   "execution_count": null,
   "metadata": {},
   "outputs": [],
   "source": [
    "# 基板外形\n",
    "PCB_WIDTH = 76.0\n",
    "PCB_HEIGHT = 57.0\n",
    "PCB_THICKNESS = 1.6\n",
    "\n",
    "# ケースと基板のZ方向のマージン\n",
    "CASE_MARGIN_TOP = 5.0\n",
    "CASE_MARGIN_BOTTOM = 3.5\n",
    "\n",
    "# ケースと基板のXY方向のマージン\n",
    "CASE_MARGIN_PCB = 0.5\n",
    "\n",
    "# ケースの厚み\n",
    "CASE_FRAME = 2.0\n",
    "CASE_BOTTOM = 3.0\n",
    "\n",
    "INNER_HEIGHT = CASE_MARGIN_TOP + PCB_THICKNESS + CASE_MARGIN_BOTTOM\n",
    "CASE_HEIGHT = INNER_HEIGHT + CASE_BOTTOM\n",
    "\n",
    "# XY平面を基準に四角形を書いて押し出す\n",
    "case = (\n",
    "    cq.Workplane(\"XY\")\n",
    "    .rect(\n",
    "        PCB_WIDTH + (CASE_FRAME + CASE_MARGIN_PCB) * 2,\n",
    "        PCB_HEIGHT + (CASE_FRAME + CASE_MARGIN_PCB) * 2,\n",
    "    )\n",
    "    .extrude(CASE_BOTTOM + INNER_HEIGHT)\n",
    "    .edges(\"|Z\")\n",
    "    .fillet(2)\n",
    "    .edges(\"|X\")\n",
    "    .chamfer(1)\n",
    ")\n",
    "\n",
    "show(case)"
   ]
  },
  {
   "attachments": {},
   "cell_type": "markdown",
   "metadata": {},
   "source": [
    "ケースの内側を切り取ってトレイの形にします。   \n",
    "基準の平面を現在のcaseの面から選択してはじめます"
   ]
  },
  {
   "cell_type": "code",
   "execution_count": null,
   "metadata": {},
   "outputs": [],
   "source": [
    "# caseの面からZ軸で一番上にあるものを基準とする\n",
    "# 四角形を書いて内側の高さ分切り取る\n",
    "case = (\n",
    "    case.faces(\">Z\")\n",
    "    .workplane()\n",
    "    .rect(PCB_WIDTH + CASE_MARGIN_PCB * 2, PCB_HEIGHT + CASE_MARGIN_PCB * 2)\n",
    "    .cutBlind(-INNER_HEIGHT)\n",
    ")\n",
    "\n",
    "show(case)"
   ]
  },
  {
   "attachments": {},
   "cell_type": "markdown",
   "metadata": {},
   "source": [
    "ネジでとめるためのボスと穴を作ります。    \n",
    "`tag(\"name\")`で基準面を保存して使いまわしています。   \n",
    "あらかじめネジ位置の座標の配列を用意して全ての箇所で同じ処理を繰り返します。"
   ]
  },
  {
   "cell_type": "code",
   "execution_count": null,
   "metadata": {},
   "outputs": [],
   "source": [
    "# ネジ位置の座標\n",
    "SCREW_POINTS = [(19, 9.5), (19, -9.5), (-19, -9.5), (0, 9.5)]\n",
    "\n",
    "# caseの面からz軸で一番上にある面(ぎりぎり残ったケースの縁部分)を選択して\n",
    "# INNER_HEIGHT分、下にオフセットした面を基準とする\n",
    "# 各座標に半径2.5mmの円柱を作る\n",
    "# 各座標に半径1.1mmの穴を開ける\n",
    "# 基準面から1mm下にオフセットした面を新たな基準とし、四角い穴を底面まで開ける (ナットを入れる穴)\n",
    "case = (\n",
    "    case.faces(\">Z\")\n",
    "    .workplane(offset=-INNER_HEIGHT)\n",
    "    .tag(\"InnerBottom\")\n",
    "    .pushPoints(SCREW_POINTS)\n",
    "    .circle(2.5)\n",
    "    .extrude(CASE_MARGIN_BOTTOM)\n",
    "    .workplaneFromTagged(\"InnerBottom\")\n",
    "    .pushPoints(SCREW_POINTS)\n",
    "    .circle(1.1)\n",
    "    .cutThruAll()\n",
    "    .workplaneFromTagged(\"InnerBottom\")\n",
    "    .workplane(offset=-1)\n",
    "    .pushPoints(SCREW_POINTS)\n",
    "    .rect(4.2, 4.8)\n",
    "    .cutBlind(-2)\n",
    ")\n",
    "\n",
    "show(case)"
   ]
  },
  {
   "attachments": {},
   "cell_type": "markdown",
   "metadata": {},
   "source": [
    "USBコネクタの入る穴を開けます。"
   ]
  },
  {
   "cell_type": "code",
   "execution_count": null,
   "metadata": {},
   "outputs": [],
   "source": [
    "# USBコネクタの穴位置・寸法\n",
    "USB_POS = (11.25, 1.2 + 3.15 / 2)\n",
    "USB_HOLE_SIZE = [9, 3.2, 7.5]\n",
    "USB_HOLE_MARGIN = 0.5\n",
    "USB_CONN_SIZE = (11, 8)\n",
    "\n",
    "case = (\n",
    "    case.faces(\">Y\")\n",
    "    .workplane(centerOption=\"CenterOfMass\")\n",
    "    .center(\n",
    "        PCB_WIDTH / 2 - USB_POS[0],\n",
    "        CASE_HEIGHT / 2 - CASE_MARGIN_TOP - PCB_THICKNESS - USB_POS[1],\n",
    "    )\n",
    "    .tag(\"USBCutout\")\n",
    "    .rect(USB_HOLE_SIZE[0] + USB_HOLE_MARGIN, USB_HOLE_SIZE[1] + USB_HOLE_MARGIN)\n",
    "    .cutBlind(-(CASE_FRAME + USB_HOLE_SIZE[2] + 2))\n",
    "    .workplaneFromTagged(\"USBCutout\")\n",
    "    .rect(USB_CONN_SIZE[0], USB_CONN_SIZE[1])\n",
    "    .cutBlind(-1)\n",
    ")\n",
    "\n",
    "show(case)"
   ]
  }
 ],
 "metadata": {
  "kernelspec": {
   "display_name": ".venv",
   "language": "python",
   "name": "python3"
  },
  "language_info": {
   "name": "python",
   "version": "3.8.10 (default, Jun 22 2022, 20:18:18) \n[GCC 9.4.0]"
  },
  "orig_nbformat": 4,
  "vscode": {
   "interpreter": {
    "hash": "b68c839e49670d3aa77ea8bdd6f541fdcce81585b85d6e1d97674ad5f32db92f"
   }
  }
 },
 "nbformat": 4,
 "nbformat_minor": 2
}
