{
 "cells": [
  {
   "attachments": {},
   "cell_type": "markdown",
   "metadata": {},
   "source": [
    "# Google Colaboratory とは？\n",
    "\n",
    "Google Colaboratory は Google が提供する Python の実行環境です。\n",
    "\n",
    "自分のコンピュータに環境を用意せずに、Python を動かしたりマークダウンによるドキュメントの記述が出来ます。\n",
    "\n",
    "Google Colaboratory では、ファイル全体のことを`ノートブック`、コードやドキュメントの一塊のことを`セル`と呼び、`セル`の種類がコードなら`▷`アイコンをクリックすると実行されます。\n",
    "\n",
    "実行すると結果がセルの下に表示されます。\n"
   ]
  },
  {
   "cell_type": "code",
   "execution_count": null,
   "metadata": {},
   "outputs": [],
   "source": [
    "1 + 2\n"
   ]
  },
  {
   "attachments": {},
   "cell_type": "markdown",
   "metadata": {},
   "source": [
    "Python インタプリタのように終了するまで状態を保持するため、セル間で import したライブラリや変数を引き継いでいます。そのため、実行順序に縛りがあるかもしれません。大抵の場合は上から順番に実行していきます。\n"
   ]
  },
  {
   "cell_type": "code",
   "execution_count": null,
   "metadata": {},
   "outputs": [],
   "source": [
    "num = 10\n"
   ]
  },
  {
   "cell_type": "code",
   "execution_count": null,
   "metadata": {},
   "outputs": [],
   "source": [
    "# printしても変数を直接書いても表示される\n",
    "print(num)\n",
    "num\n"
   ]
  },
  {
   "attachments": {},
   "cell_type": "markdown",
   "metadata": {},
   "source": [
    "Python が動いている仮想環境の bash にアクセスすることも出来ます。  \n",
    "これを使って pip 経由で用意されていてないライブラリをインストールしたり、python そのもののバージョンを変更したり、github からプロジェクトをクローンします。\n",
    "\n",
    "Colaboratory には前もってよく使われるライブラリがプリインストールされています。それも確認してみましょう。\n"
   ]
  },
  {
   "cell_type": "code",
   "execution_count": null,
   "metadata": {},
   "outputs": [],
   "source": [
    "# !を文頭につけるとbashへのコマンドになります\n",
    "!python --version\n",
    "!pip list"
   ]
  },
  {
   "attachments": {},
   "cell_type": "markdown",
   "metadata": {},
   "source": [
    "# 実際に使ってみる\n",
    "\n",
    "早速、python で簡単な画像を生成して保存するスクリプトを実行してみましょう。\n",
    "\n",
    "画像処理ライブラリの pillow をインポートします。\n"
   ]
  },
  {
   "cell_type": "code",
   "execution_count": null,
   "metadata": {},
   "outputs": [],
   "source": [
    "from PIL import Image, ImageDraw\n"
   ]
  },
  {
   "cell_type": "code",
   "execution_count": null,
   "metadata": {},
   "outputs": [],
   "source": [
    "# 四角が書かれた画像ファイルを生成する\n",
    "size = (300, 200)\n",
    "img = Image.new(\"RGB\", size, (255, 255, 255))\n",
    "draw = ImageDraw.Draw(img)\n",
    "draw.rectangle((20, 20, 150, 150), fill=(255, 0, 0))\n",
    "\n",
    "# 変数の名前だけを入力すると画像をセルの実行結果として表示できる\n",
    "img"
   ]
  },
  {
   "cell_type": "code",
   "execution_count": null,
   "metadata": {},
   "outputs": [],
   "source": [
    "# 丸を追加する\n",
    "draw.ellipse((50, 50, 200, 200), fill=(0, 255, 0))\n",
    "img"
   ]
  },
  {
   "cell_type": "code",
   "execution_count": null,
   "metadata": {},
   "outputs": [],
   "source": [
    "# 画像を保存する\n",
    "img.save(\"test.png\")\n"
   ]
  },
  {
   "attachments": {},
   "cell_type": "markdown",
   "metadata": {},
   "source": [
    "ファイルを保存した場合、一度ノートブックを閉じてしまうと環境がリセットされるため、消えてしまうかもしれません。あらかじめダウンロードしておきましょう。\n",
    "\n",
    "保存した一時ファイルは左側のタブにあるファイルブラウザから見えます。\n"
   ]
  }
 ],
 "metadata": {
  "kernelspec": {
   "display_name": ".venv",
   "language": "python",
   "name": "python3"
  },
  "language_info": {
   "codemirror_mode": {
    "name": "ipython",
    "version": 3
   },
   "file_extension": ".py",
   "mimetype": "text/x-python",
   "name": "python",
   "nbconvert_exporter": "python",
   "pygments_lexer": "ipython3",
   "version": "3.8.10 (default, Jun 22 2022, 20:18:18) \n[GCC 9.4.0]"
  },
  "orig_nbformat": 4,
  "vscode": {
   "interpreter": {
    "hash": "b68c839e49670d3aa77ea8bdd6f541fdcce81585b85d6e1d97674ad5f32db92f"
   }
  }
 },
 "nbformat": 4,
 "nbformat_minor": 2
}
