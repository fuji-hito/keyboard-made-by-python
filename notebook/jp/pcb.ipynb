{
  "cells": [
    {
      "cell_type": "markdown",
      "metadata": {
        "id": "g6rr65y7TUEE"
      },
      "source": [
        "# 基板の設計\n",
        "キーボードの基板を設計します。\n",
        "\n",
        "通常の工程で基板を作るにはまず`回路図エディタ`で`回路図`を書いて使用する部品とその結線情報をまとめて`ネットリスト`として出力し、`基板エディタ`を用いて実際に`基板`へ部品を配置・配線します。"
      ]
    },
    {
      "cell_type": "markdown",
      "metadata": {
        "id": "RwgtrhL6DhoQ"
      },
      "source": [
        "# 記事を読むための注意\n",
        "このノートブックには2回実行すると正常に動作しないセルが含まれています。それを防止するために上のメニューから`ランタイム>全てのセルを実行`してから読み始めると良いかもしれません。(実行完了には少し時間がかかります)"
      ]
    },
    {
      "cell_type": "markdown",
      "metadata": {
        "id": "Ancu-CO6W_Y4"
      },
      "source": [
        "# skidlでネットリスト(回路図)を設計する\n",
        "Pythonを使った設計では回路図を書かずにコードで使用する部品と結線情報を定義してネットリストを出力します。\n",
        "\n",
        "[skidl](https://github.com/devbisme/skidl)というライブラリを用います。このライブラリは独自フォーマットの部品ライブラリだけでなく、kicadの部品ライブラリをインポートして使用します。また、ネットリストはkicadのPCBエディタと互換性があり直接kicadへ読み込んで回路図を書くこともできます。\n",
        "\n",
        "- skidl  https://github.com/devbisme/skidl\n",
        "- skidlのドキュメント  https://devbisme.github.io/skidl/"
      ]
    },
    {
      "cell_type": "markdown",
      "source": [
        "## kicadライブラリのダウンロード\n",
        "以下のセルを実行してkicadのライブラリが入ったリポジトリをクローンしておきます。"
      ],
      "metadata": {
        "id": "AXZHkyEGHF9U"
      }
    },
    {
      "cell_type": "code",
      "execution_count": 1,
      "metadata": {
        "colab": {
          "base_uri": "https://localhost:8080/"
        },
        "id": "aSvGlEwZDhoT",
        "outputId": "dbd5bef5-0378-4f9b-fcd3-1b058149a631"
      },
      "outputs": [
        {
          "output_type": "stream",
          "name": "stdout",
          "text": [
            "Cloning into 'keyboard-made-by-python'...\n",
            "remote: Enumerating objects: 64, done.\u001b[K\n",
            "remote: Counting objects: 100% (64/64), done.\u001b[K\n",
            "remote: Compressing objects: 100% (52/52), done.\u001b[K\n",
            "remote: Total 64 (delta 13), reused 57 (delta 6), pack-reused 0\u001b[K\n",
            "Unpacking objects: 100% (64/64), done.\n"
          ]
        }
      ],
      "source": [
        "!git clone https://github.com/hsgw/keyboard-made-by-python/"
      ]
    },
    {
      "cell_type": "markdown",
      "metadata": {
        "id": "-cW5lSiPYuUS"
      },
      "source": [
        "## skidlのインストールとインポート\n",
        "ノートブック上に[skidl](https://github.com/devbisme/skidl)をインストールしてインポートしておきます。\n",
        "インストールには少し時間がかかるかもしれません。\n",
        "\n",
        "このとき、インストールとインポートは別のセルにしておくと何度もインストールしなくて済むのでセルを分けておきます。"
      ]
    },
    {
      "cell_type": "code",
      "execution_count": 5,
      "metadata": {
        "colab": {
          "base_uri": "https://localhost:8080/"
        },
        "id": "5i-Jvi1XYtsq",
        "outputId": "c51b471f-2ad5-424e-e728-9bd2d29aa240"
      },
      "outputs": [
        {
          "output_type": "stream",
          "name": "stdout",
          "text": [
            "Looking in indexes: https://pypi.org/simple, https://us-python.pkg.dev/colab-wheels/public/simple/\n",
            "Requirement already satisfied: skidl in /usr/local/lib/python3.8/dist-packages (1.1.0)\n",
            "Requirement already satisfied: kinet2pcb in /usr/local/lib/python3.8/dist-packages (from skidl) (1.1.0)\n",
            "Requirement already satisfied: kinparse>=0.1.0 in /usr/local/lib/python3.8/dist-packages (from skidl) (1.2.0)\n",
            "Requirement already satisfied: future>=0.15.0 in /usr/local/lib/python3.8/dist-packages (from skidl) (0.16.0)\n",
            "Requirement already satisfied: graphviz in /usr/local/lib/python3.8/dist-packages (from skidl) (0.10.1)\n",
            "Requirement already satisfied: pyparsing>=2.1.1 in /usr/local/lib/python3.8/dist-packages (from kinparse>=0.1.0->skidl) (3.0.9)\n",
            "Requirement already satisfied: hierplace in /usr/local/lib/python3.8/dist-packages (from kinet2pcb->skidl) (1.0.0)\n"
          ]
        }
      ],
      "source": [
        "!pip install skidl"
      ]
    },
    {
      "cell_type": "code",
      "execution_count": 3,
      "metadata": {
        "colab": {
          "base_uri": "https://localhost:8080/"
        },
        "id": "KMF3_yPHTF0L",
        "outputId": "8b15294b-7447-4f0d-c50b-c4605004890e"
      },
      "outputs": [
        {
          "output_type": "stream",
          "name": "stderr",
          "text": [
            "WARNING: KICAD_SYMBOL_DIR environment variable is missing, so the default KiCad symbol libraries won't be searched. @ [/content/<frozen importlib._bootstrap_external>:843=>/content/<frozen importlib._bootstrap>:219]\n",
            "WARNING:skidl:KICAD_SYMBOL_DIR environment variable is missing, so the default KiCad symbol libraries won't be searched. @ [/content/<frozen importlib._bootstrap_external>:843=>/content/<frozen importlib._bootstrap>:219]\n"
          ]
        }
      ],
      "source": [
        "from skidl import *\n",
        "# kicadのデフォルトパスが環境変数に設定されていないのでWarningが出ます"
      ]
    },
    {
      "cell_type": "markdown",
      "metadata": {
        "id": "LTeD6nJwogVT"
      },
      "source": [
        "## 定数を宣言する\n",
        "何度も出てくる値を定数として宣言しておきます。この値を使い回すことで変更に強い設計になります。\n"
      ]
    },
    {
      "cell_type": "code",
      "execution_count": 4,
      "metadata": {
        "id": "6jwqmkIjo5MH"
      },
      "outputs": [],
      "source": [
        "KEY_COUNT = 10\n",
        "COL_COUNT = 4\n",
        "ROW_COUNT = 3\n",
        "MATRIX_MAP = [\n",
        "        (0,1),(0,2),(0,3),  \n",
        "        (1,1),(1,2),(1,3),\n",
        "  (2,0),(2,1),(2,2),(2,3)\n",
        "]"
      ]
    },
    {
      "cell_type": "markdown",
      "metadata": {
        "id": "QWaPdvrNmmzk"
      },
      "source": [
        "## kicadライブラリの読み込みと部品の準備\n",
        "使用するkicadライブラリのパスを追加をします。\n",
        "\n",
        "kicadがインストールされている環境であれば通常のライブラリへのパスがデフォルトで追加されているはずですが、今回はkicadのインストールされていない環境で実行するために使う部品だけ別に用意しておきます。\n",
        "先程githubからcloneしてきた`keyboard-made-by-python/hardware/kicad_libs`に入っています。\n",
        "\n",
        "シンボルとフットプリントを結びつけて必要な個数だけ部品を用意します。"
      ]
    },
    {
      "cell_type": "code",
      "execution_count": 5,
      "metadata": {
        "colab": {
          "base_uri": "https://localhost:8080/"
        },
        "id": "EjCwQBClnF5q",
        "outputId": "735aaf42-62fd-4351-de21-f8c32bc17cb0"
      },
      "outputs": [
        {
          "output_type": "stream",
          "name": "stdout",
          "text": [
            "\n",
            " D_Small_ALT (): Diode, small symbol, filled shape\n",
            "    Pin None/1/K/PASSIVE\n",
            "    Pin None/2/A/PASSIVE \n",
            " SW_Push (): Push button switch, generic, two pins\n",
            "    Pin None/1/1/PASSIVE\n",
            "    Pin None/2/2/PASSIVE \n",
            " xiao_rp2040 (): \n",
            "    Pin U1/1/P26/ADC0/I2C1_SDA/BIDIRECTIONAL\n",
            "    Pin U1/10/UART1_TX/I2C0_SDA/SPI0_RX/P4/BIDIRECTIONAL\n",
            "    Pin U1/11/I2C1_SCL/SPI0_TX/P3/BIDIRECTIONAL\n",
            "    Pin U1/12/3.3V/POWER-OUT\n",
            "    Pin U1/13/GND/POWER-OUT\n",
            "    Pin U1/14/5V/POWER-OUT\n",
            "    Pin U1/2/P27/ADC1/I2C1_SCL/BIDIRECTIONAL\n",
            "    Pin U1/3/P28/ADC2/BIDIRECTIONAL\n",
            "    Pin U1/4/P29/ADC3/BIDIRECTIONAL\n",
            "    Pin U1/5/P6/I2C1_SDA/SPI0_SCK/BIDIRECTIONAL\n",
            "    Pin U1/6/P7/I2C1_SCL/SPI0_TX/BIDIRECTIONAL\n",
            "    Pin U1/7/P0/UART0_TX/I2C0_SDA/SPI0_RX/BIDIRECTIONAL\n",
            "    Pin U1/8/UART0_RX/I2C0_SCL/SPI0_CSn/P1/BIDIRECTIONAL\n",
            "    Pin U1/9/I2C1_SDA/SPI0_SCK/P2/BIDIRECTIONAL \n",
            " oled_i2c (): \n",
            "    Pin DISP1/1/SDA/BIDIRECTIONAL\n",
            "    Pin DISP1/2/SCL/INPUT\n",
            "    Pin DISP1/3/Vcc/POWER-IN\n",
            "    Pin DISP1/4/GND/POWER-IN\n"
          ]
        }
      ],
      "source": [
        "# 使用するライブラリを登録する\n",
        "# シンボル・フットプリントどちらも別で登録する\n",
        "lib_search_paths[KICAD].append(\"keyboard-made-by-python/hardware/kicad_libs\")\n",
        "footprint_search_paths[KICAD].append(\"keyboard-made-by-python/hardware/kicad_libs/kicad.pretty\")\n",
        "\n",
        "# 同じ部品を何回も使うならシンボルとフットプリントを結びつけたテンプレートとして読み込んでおく\n",
        "diode = Part(\n",
        "  \"kicad_symbols\", \"D_Small_ALT\", TEMPLATE, footprint=\"kicad:D_SOD123_hand\"\n",
        ")\n",
        "switch = Part(\n",
        "  \"kicad_symbols\",\n",
        "  \"SW_Push\",\n",
        "  TEMPLATE,\n",
        "  footprint=\"kicad:SW_Cherry_MX_1.00u_PCB\",\n",
        ")\n",
        "\n",
        "# 宣言した定数とテンプレートを使ってダイオードとスイッチを用意する\n",
        "# それぞれ KEY_COUNT 個用意して配列にいれておく\n",
        "diodes = diode(KEY_COUNT)\n",
        "switches = switch(KEY_COUNT)\n",
        "\n",
        "# ひとつしか使わない部品はそのまま読み込む\n",
        "xiao = Part(\"kicad_symbols\", \"xiao_rp2040\", footprint=\"kicad:xiao_rp2040\")\n",
        "oled = Part(\"kicad_symbols\", \"oled_i2c\", footprint=\"kicad:oled_i2c\")\n",
        "\n",
        "# printするとシンボルのPin情報が見えます\n",
        "print(diode, switch, xiao, oled)"
      ]
    },
    {
      "cell_type": "markdown",
      "metadata": {
        "id": "oG5xuNjqq6qg"
      },
      "source": [
        "## PinやNetを接続する\n",
        "用意した部品のピン同士を接続を入力して回路の構成を定義します。\n",
        "\n",
        "このときなるべく配線自体に`Net`名をつけるようにします。`Net`を基準に`Pin`を繋いでいくことで同じところにつながるもの(電源やスイッチマトリクス)を整理して見やすいコードにします。また、kicadへネットリストをインポートしたときに表示されるので目印にもなります。\n",
        "\n",
        "今回の設計でも基板配線時に`ピン番号`を`Net`から読み出します。"
      ]
    },
    {
      "cell_type": "code",
      "execution_count": 6,
      "metadata": {
        "colab": {
          "base_uri": "https://localhost:8080/"
        },
        "id": "PI9UK581tf5H",
        "outputId": "baa6c5c8-3bc0-455c-8db3-a4a458a14267"
      },
      "outputs": [
        {
          "output_type": "stream",
          "name": "stdout",
          "text": [
            "\n",
            " xiao_rp2040 (): \n",
            "    Pin U1/1/P26/ADC0/I2C1_SDA/BIDIRECTIONAL\n",
            "    Pin U1/10/UART1_TX/I2C0_SDA/SPI0_RX/P4/BIDIRECTIONAL\n",
            "    Pin U1/11/I2C1_SCL/SPI0_TX/P3/BIDIRECTIONAL\n",
            "    Pin U1/12/3.3V/POWER-OUT\n",
            "    Pin U1/13/GND/POWER-OUT\n",
            "    Pin U1/14/5V/POWER-OUT\n",
            "    Pin U1/2/P27/ADC1/I2C1_SCL/BIDIRECTIONAL\n",
            "    Pin U1/3/P28/ADC2/BIDIRECTIONAL\n",
            "    Pin U1/4/P29/ADC3/BIDIRECTIONAL\n",
            "    Pin U1/5/P6/I2C1_SDA/SPI0_SCK/BIDIRECTIONAL\n",
            "    Pin U1/6/P7/I2C1_SCL/SPI0_TX/BIDIRECTIONAL\n",
            "    Pin U1/7/P0/UART0_TX/I2C0_SDA/SPI0_RX/BIDIRECTIONAL\n",
            "    Pin U1/8/UART0_RX/I2C0_SCL/SPI0_CSn/P1/BIDIRECTIONAL\n",
            "    Pin U1/9/I2C1_SDA/SPI0_SCK/P2/BIDIRECTIONAL\n"
          ]
        }
      ],
      "source": [
        "# Pin情報を表示しながら配線すると便利\n",
        "print(xiao)"
      ]
    },
    {
      "cell_type": "code",
      "execution_count": 7,
      "metadata": {
        "colab": {
          "base_uri": "https://localhost:8080/"
        },
        "id": "Ufo-bwPNtWzt",
        "outputId": "565e288c-7507-4352-d3f2-2e7f5812ff29"
      },
      "outputs": [
        {
          "output_type": "stream",
          "name": "stdout",
          "text": [
            "ROW0: Pin SW1/1/1/PASSIVE, Pin SW2/1/1/PASSIVE, Pin SW3/1/1/PASSIVE, Pin U1/1/P26/ADC0/I2C1_SDA/BIDIRECTIONAL\n"
          ]
        }
      ],
      "source": [
        "# スイッチマトリクスのROW,COLのネットリストが入った配列を作る\n",
        "netRows = [Net(f\"ROW{i}\") for i in range(ROW_COUNT)]\n",
        "netCols = [Net(f\"COL{i}\") for i in range(COL_COUNT)]\n",
        "\n",
        "\n",
        "# ROWのNet -> スイッチの1ピン  スイッチの2ピン -> ダイオードのカソード  ダイオードのアノード -> COLのNet をまとめて宣言する\n",
        "# NetやPinは`&`で繋ぐと接続される\n",
        "# 部品のPinには part[\"pin name\"]でアクセス出来る\n",
        "# 部品のPinの添字を2つにするとinとoutになる\n",
        "# 例: sw[\"1\"]につながるNetかPin & sw[\"1 2\"] & sw[\"2\"]に繋がるNetかPin\n",
        "for sw, d, mapping in zip(switches, diodes, MATRIX_MAP):\n",
        "  netRows[mapping[0]] & sw[\"1 2\"] & d[\"K A\"] & netCols[mapping[1]]\n",
        "\n",
        "# スイッチマトリクスとxiaoを接続する\n",
        "# NetにPinを`+`ことで接続する\n",
        "netCols[0] += xiao[8]\n",
        "netCols[1] += xiao[3]\n",
        "netCols[2] += xiao[4]\n",
        "netCols[3] += xiao[5]\n",
        "\n",
        "netRows[0] += xiao[1]\n",
        "netRows[1] += xiao[6]\n",
        "netRows[2] += xiao[7]\n",
        "\n",
        "# oledとxiaoも接続する\n",
        "# Net(\"3.3V\")みたいに直接Netを宣言して繋いでもOK\n",
        "Net(\"3.3V\") & oled[\"Vcc\"] & xiao[\"3.3V\"]\n",
        "Net(\"GND\") & oled[\"GND\"] & xiao[\"GND\"]\n",
        "Net(\"SDA\") & oled[\"SDA\"] & xiao[9]\n",
        "Net(\"SCL\") & oled[\"SCL\"] & xiao[11]\n",
        "\n",
        "# printすると接続されているPinが表示される\n",
        "print(netRows[0])"
      ]
    },
    {
      "cell_type": "markdown",
      "metadata": {
        "id": "ygS8U7MywJ8k"
      },
      "source": [
        "## ERCとネットリストの出力\n",
        "ERC(Electrical Rule Check・回路図のルールチェック)をかけて、ネットリストを出力します。\n",
        "これで回路図・ネットリストは完成です！"
      ]
    },
    {
      "cell_type": "code",
      "execution_count": 8,
      "metadata": {
        "colab": {
          "base_uri": "https://localhost:8080/",
          "height": 330
        },
        "id": "7UCaNTPgwJVV",
        "outputId": "130af1b0-7e0a-4bd0-88c0-88f122a13608"
      },
      "outputs": [
        {
          "output_type": "stream",
          "name": "stderr",
          "text": [
            "ERC WARNING: Unconnected pin: BIDIRECTIONAL pin 10/UART1_TX/I2C0_SDA/SPI0_RX/P4 of xiao_rp2040/U1.\n",
            "WARNING:ERC_Logger:Unconnected pin: BIDIRECTIONAL pin 10/UART1_TX/I2C0_SDA/SPI0_RX/P4 of xiao_rp2040/U1.\n",
            "ERC WARNING: Unconnected pin: POWER-OUT pin 14/5V of xiao_rp2040/U1.\n",
            "WARNING:ERC_Logger:Unconnected pin: POWER-OUT pin 14/5V of xiao_rp2040/U1.\n",
            "ERC WARNING: Unconnected pin: BIDIRECTIONAL pin 2/P27/ADC1/I2C1_SCL of xiao_rp2040/U1.\n",
            "WARNING:ERC_Logger:Unconnected pin: BIDIRECTIONAL pin 2/P27/ADC1/I2C1_SCL of xiao_rp2040/U1.\n",
            "\n",
            "3 warnings found while running ERC.\n",
            "0 errors found while running ERC.\n",
            "\n",
            "\n",
            "No errors or warnings found while generating netlist.\n",
            "\n"
          ]
        },
        {
          "output_type": "execute_result",
          "data": {
            "text/plain": [
              "'(export (version D)\\n  (design\\n    (source \"/content/skidl\")\\n    (date \"12/17/2022 05:29 PM\")\\n    (tool \"SKiDL (1.1.0)\"))\\n  (components\\n    (comp (ref D1)\\n      (value D_Small_ALT)\\n      (footprint kicad:D_SOD123_hand)\\n      (fields\\n        (field (name F0) D)\\n        (field (name F1) D_Small_ALT)\\n        (field (name F2) kicad:D_SOD123_hand))\\n      (libsource (lib kicad_symbols) (part D_Small_ALT))\\n      (sheetpath (names /top/2031437178528088810) (tstamps /top/2031437178528088810)))\\n    (comp (ref D10)\\n      (value D_Small_ALT)\\n      (footprint kicad:D_SOD123_hand)\\n      (fields\\n        (field (name F0) D)\\n        (field (name F1) D_Small_ALT)\\n        (field (name F2) kicad:D_SOD123_hand))\\n      (libsource (lib kicad_symbols) (part D_Small_ALT))\\n      (sheetpath (names /top/11538802863818834611) (tstamps /top/11538802863818834611)))\\n    (comp (ref D2)\\n      (value D_Small_ALT)\\n      (footprint kicad:D_SOD123_hand)\\n      (fields\\n        (field (name F0) D)\\n        (field (name F1) D_Small_ALT)\\n        (field (name F2) kicad:D_SOD123_hand))\\n      (libsource (lib kicad_symbols) (part D_Small_ALT))\\n      (sheetpath (names /top/5956385092997752085) (tstamps /top/5956385092997752085)))\\n    (comp (ref D3)\\n      (value D_Small_ALT)\\n      (footprint kicad:D_SOD123_hand)\\n      (fields\\n        (field (name F0) D)\\n        (field (name F1) D_Small_ALT)\\n        (field (name F2) kicad:D_SOD123_hand))\\n      (libsource (lib kicad_symbols) (part D_Small_ALT))\\n      (sheetpath (names /top/11716287413273102680) (tstamps /top/11716287413273102680)))\\n    (comp (ref D4)\\n      (value D_Small_ALT)\\n      (footprint kicad:D_SOD123_hand)\\n      (fields\\n        (field (name F0) D)\\n        (field (name F1) D_Small_ALT)\\n        (field (name F2) kicad:D_SOD123_hand))\\n      (libsource (lib kicad_symbols) (part D_Small_ALT))\\n      (sheetpath (names /top/13482277179210585747) (tstamps /top/13482277179210585747)))\\n    (comp (ref D5)\\n      (value D_Small_ALT)\\n      (footprint kicad:D_SOD123_hand)\\n      (fields\\n        (field (name F0) D)\\n        (field (name F1) D_Small_ALT)\\n        (field (name F2) kicad:D_SOD123_hand))\\n      (libsource (lib kicad_symbols) (part D_Small_ALT))\\n      (sheetpath (names /top/1723079671385067270) (tstamps /top/1723079671385067270)))\\n    (comp (ref D6)\\n      (value D_Small_ALT)\\n      (footprint kicad:D_SOD123_hand)\\n      (fields\\n        (field (name F0) D)\\n        (field (name F1) D_Small_ALT)\\n        (field (name F2) kicad:D_SOD123_hand))\\n      (libsource (lib kicad_symbols) (part D_Small_ALT))\\n      (sheetpath (names /top/5162310673497070146) (tstamps /top/5162310673497070146)))\\n    (comp (ref D7)\\n      (value D_Small_ALT)\\n      (footprint kicad:D_SOD123_hand)\\n      (fields\\n        (field (name F0) D)\\n        (field (name F1) D_Small_ALT)\\n        (field (name F2) kicad:D_SOD123_hand))\\n      (libsource (lib kicad_symbols) (part D_Small_ALT))\\n      (sheetpath (names /top/6736456972478135092) (tstamps /top/6736456972478135092)))\\n    (comp (ref D8)\\n      (value D_Small_ALT)\\n      (footprint kicad:D_SOD123_hand)\\n      (fields\\n        (field (name F0) D)\\n        (field (name F1) D_Small_ALT)\\n        (field (name F2) kicad:D_SOD123_hand))\\n      (libsource (lib kicad_symbols) (part D_Small_ALT))\\n      (sheetpath (names /top/12929827182587379122) (tstamps /top/12929827182587379122)))\\n    (comp (ref D9)\\n      (value D_Small_ALT)\\n      (footprint kicad:D_SOD123_hand)\\n      (fields\\n        (field (name F0) D)\\n        (field (name F1) D_Small_ALT)\\n        (field (name F2) kicad:D_SOD123_hand))\\n      (libsource (lib kicad_symbols) (part D_Small_ALT))\\n      (sheetpath (names /top/13977710218549558592) (tstamps /top/13977710218549558592)))\\n    (comp (ref DISP1)\\n      (value oled_i2c)\\n      (footprint kicad:oled_i2c)\\n      (fields\\n        (field (name F0) DISP)\\n        (field (name F1) oled_i2c)\\n        (field (name F2) kicad:oled_i2c))\\n      (libsource (lib kicad_symbols) (part oled_i2c))\\n      (sheetpath (names /top/433516890476754887) (tstamps /top/433516890476754887)))\\n    (comp (ref SW1)\\n      (value SW_Push)\\n      (footprint kicad:SW_Cherry_MX_1.00u_PCB)\\n      (fields\\n        (field (name F0) SW)\\n        (field (name F1) SW_Push)\\n        (field (name F2) kicad:SW_Cherry_MX_1.00u_PCB))\\n      (libsource (lib kicad_symbols) (part SW_Push))\\n      (sheetpath (names /top/1906078186256330139) (tstamps /top/1906078186256330139)))\\n    (comp (ref SW10)\\n      (value SW_Push)\\n      (footprint kicad:SW_Cherry_MX_1.00u_PCB)\\n      (fields\\n        (field (name F0) SW)\\n        (field (name F1) SW_Push)\\n        (field (name F2) kicad:SW_Cherry_MX_1.00u_PCB))\\n      (libsource (lib kicad_symbols) (part SW_Push))\\n      (sheetpath (names /top/10754923677080318445) (tstamps /top/10754923677080318445)))\\n    (comp (ref SW2)\\n      (value SW_Push)\\n      (footprint kicad:SW_Cherry_MX_1.00u_PCB)\\n      (fields\\n        (field (name F0) SW)\\n        (field (name F1) SW_Push)\\n        (field (name F2) kicad:SW_Cherry_MX_1.00u_PCB))\\n      (libsource (lib kicad_symbols) (part SW_Push))\\n      (sheetpath (names /top/3621934822964348425) (tstamps /top/3621934822964348425)))\\n    (comp (ref SW3)\\n      (value SW_Push)\\n      (footprint kicad:SW_Cherry_MX_1.00u_PCB)\\n      (fields\\n        (field (name F0) SW)\\n        (field (name F1) SW_Push)\\n        (field (name F2) kicad:SW_Cherry_MX_1.00u_PCB))\\n      (libsource (lib kicad_symbols) (part SW_Push))\\n      (sheetpath (names /top/4459381455177248107) (tstamps /top/4459381455177248107)))\\n    (comp (ref SW4)\\n      (value SW_Push)\\n      (footprint kicad:SW_Cherry_MX_1.00u_PCB)\\n      (fields\\n        (field (name F0) SW)\\n        (field (name F1) SW_Push)\\n        (field (name F2) kicad:SW_Cherry_MX_1.00u_PCB))\\n      (libsource (lib kicad_symbols) (part SW_Push))\\n      (sheetpath (names /top/14605395656161360197) (tstamps /top/14605395656161360197)))\\n    (comp (ref SW5)\\n      (value SW_Push)\\n      (footprint kicad:SW_Cherry_MX_1.00u_PCB)\\n      (fields\\n        (field (name F0) SW)\\n        (field (name F1) SW_Push)\\n        (field (name F2) kicad:SW_Cherry_MX_1.00u_PCB))\\n      (libsource (lib kicad_symbols) (part SW_Push))\\n      (sheetpath (names /top/5526705620935484456) (tstamps /top/5526705620935484456)))\\n    (comp (ref SW6)\\n      (value SW_Push)\\n      (footprint kicad:SW_Cherry_MX_1.00u_PCB)\\n      (fields\\n        (field (name F0) SW)\\n        (field (name F1) SW_Push)\\n        (field (name F2) kicad:SW_Cherry_MX_1.00u_PCB))\\n      (libsource (lib kicad_symbols) (part SW_Push))\\n      (sheetpath (names /top/137894372515118482) (tstamps /top/137894372515118482)))\\n    (comp (ref SW7)\\n      (value SW_Push)\\n      (footprint kicad:SW_Cherry_MX_1.00u_PCB)\\n      (fields\\n        (field (name F0) SW)\\n        (field (name F1) SW_Push)\\n        (field (name F2) kicad:SW_Cherry_MX_1.00u_PCB))\\n      (libsource (lib kicad_symbols) (part SW_Push))\\n      (sheetpath (names /top/10979141751884789270) (tstamps /top/10979141751884789270)))\\n    (comp (ref SW8)\\n      (value SW_Push)\\n      (footprint kicad:SW_Cherry_MX_1.00u_PCB)\\n      (fields\\n        (field (name F0) SW)\\n        (field (name F1) SW_Push)\\n        (field (name F2) kicad:SW_Cherry_MX_1.00u_PCB))\\n      (libsource (lib kicad_symbols) (part SW_Push))\\n      (sheetpath (names /top/523042174321106059) (tstamps /top/523042174321106059)))\\n    (comp (ref SW9)\\n      (value SW_Push)\\n      (footprint kicad:SW_Cherry_MX_1.00u_PCB)\\n      (fields\\n        (field (name F0) SW)\\n        (field (name F1) SW_Push)\\n        (field (name F2) kicad:SW_Cherry_MX_1.00u_PCB))\\n      (libsource (lib kicad_symbols) (part SW_Push))\\n      (sheetpath (names /top/12310712542289990299) (tstamps /top/12310712542289990299)))\\n    (comp (ref U1)\\n      (value xiao_rp2040)\\n      (footprint kicad:xiao_rp2040)\\n      (fields\\n        (field (name F0) U)\\n        (field (name F1) xiao_rp2040)\\n        (field (name F2) kicad:xiao_rp2040))\\n      (libsource (lib kicad_symbols) (part xiao_rp2040))\\n      (sheetpath (names /top/10359799848830160141) (tstamps /top/10359799848830160141))))\\n  (nets\\n    (net (code 1) (name 3.3V)\\n      (node (ref DISP1) (pin 3))\\n      (node (ref U1) (pin 12)))\\n    (net (code 2) (name COL0)\\n      (node (ref D7) (pin 2))\\n      (node (ref U1) (pin 8)))\\n    (net (code 3) (name COL1)\\n      (node (ref D1) (pin 2))\\n      (node (ref D4) (pin 2))\\n      (node (ref D8) (pin 2))\\n      (node (ref U1) (pin 3)))\\n    (net (code 4) (name COL2)\\n      (node (ref D2) (pin 2))\\n      (node (ref D5) (pin 2))\\n      (node (ref D9) (pin 2))\\n      (node (ref U1) (pin 4)))\\n    (net (code 5) (name COL3)\\n      (node (ref D10) (pin 2))\\n      (node (ref D3) (pin 2))\\n      (node (ref D6) (pin 2))\\n      (node (ref U1) (pin 5)))\\n    (net (code 6) (name GND)\\n      (node (ref DISP1) (pin 4))\\n      (node (ref U1) (pin 13)))\\n    (net (code 7) (name N$1)\\n      (node (ref D1) (pin 1))\\n      (node (ref SW1) (pin 2)))\\n    (net (code 8) (name N$10)\\n      (node (ref D10) (pin 1))\\n      (node (ref SW10) (pin 2)))\\n    (net (code 9) (name N$2)\\n      (node (ref D2) (pin 1))\\n      (node (ref SW2) (pin 2)))\\n    (net (code 10) (name N$3)\\n      (node (ref D3) (pin 1))\\n      (node (ref SW3) (pin 2)))\\n    (net (code 11) (name N$4)\\n      (node (ref D4) (pin 1))\\n      (node (ref SW4) (pin 2)))\\n    (net (code 12) (name N$5)\\n      (node (ref D5) (pin 1))\\n      (node (ref SW5) (pin 2)))\\n    (net (code 13) (name N$6)\\n      (node (ref D6) (pin 1))\\n      (node (ref SW6) (pin 2)))\\n    (net (code 14) (name N$7)\\n      (node (ref D7) (pin 1))\\n      (node (ref SW7) (pin 2)))\\n    (net (code 15) (name N$8)\\n      (node (ref D8) (pin 1))\\n      (node (ref SW8) (pin 2)))\\n    (net (code 16) (name N$9)\\n      (node (ref D9) (pin 1))\\n      (node (ref SW9) (pin 2)))\\n    (net (code 17) (name ROW0)\\n      (node (ref SW1) (pin 1))\\n      (node (ref SW2) (pin 1))\\n      (node (ref SW3) (pin 1))\\n      (node (ref U1) (pin 1)))\\n    (net (code 18) (name ROW1)\\n      (node (ref SW4) (pin 1))\\n      (node (ref SW5) (pin 1))\\n      (node (ref SW6) (pin 1))\\n      (node (ref U1) (pin 6)))\\n    (net (code 19) (name ROW2)\\n      (node (ref SW10) (pin 1))\\n      (node (ref SW7) (pin 1))\\n      (node (ref SW8) (pin 1))\\n      (node (ref SW9) (pin 1))\\n      (node (ref U1) (pin 7)))\\n    (net (code 20) (name SCL)\\n      (node (ref DISP1) (pin 2))\\n      (node (ref U1) (pin 11)))\\n    (net (code 21) (name SDA)\\n      (node (ref DISP1) (pin 1))\\n      (node (ref U1) (pin 9))))\\n)\\n'"
            ],
            "application/vnd.google.colaboratory.intrinsic+json": {
              "type": "string"
            }
          },
          "metadata": {},
          "execution_count": 8
        }
      ],
      "source": [
        "# 他のセルを複数回実行しているとエラーが出たり回路が複数個になったりするかもしれません\n",
        "# そのときは`メニュー`の`ランタイム -> ランタイムを再起動`して最初からやりなおすか`再起動してすべてのセルを実行`してください\n",
        "# 未結線のWarningが出ますが問題ありません\n",
        "ERC()\n",
        "generate_netlist(file_=\"keyboard.net\")"
      ]
    },
    {
      "cell_type": "markdown",
      "metadata": {
        "id": "5URJ6fd7xzse"
      },
      "source": [
        "出力されたネットリストは今記事では使用しませんが、kicadのpcbnewのネットリスト読み込みからインポートしてそのまま基板を作ることも出来ます。\n",
        "\n",
        "![pcbnewへネットリストをインポートした](https://github.com/hsgw/keyboard-made-by-python/blob/main/notebook/imgs/kicad_pcbnew.png?raw=1)"
      ]
    },
    {
      "cell_type": "markdown",
      "source": [
        "# pcbflowで基板を設計する\n",
        "skidlで設計した結線情報を活用しながら[pcbflow](https://github.com/michaelgale/pcbflow)で実際の基板に部品を配置して配線をします。\n",
        "\n",
        "pcbflowは開発中(?)のようで意図しない動作や不具合があったため修正と追加をしました。今記事ではその[folk](https://github.com/hsgw/pcbflow/tree/fix_kicad)を使用します。\n",
        "\n",
        "- pcbflow https://github.com/michaelgale/pcbflow\n",
        "- pcvflowのドキュメントはREADME.mdにあります\n",
        "- folkして修正したpcbflow https://github.com/hsgw/pcbflow/tree/fix_kicad"
      ],
      "metadata": {
        "id": "rtU9DM-AD2hu"
      }
    },
    {
      "cell_type": "markdown",
      "source": [
        "## pcbflowのダウンロードとインストール\n",
        "以下のセルを実行してインストールします。\n",
        "インポートしてエラーがないことを確認します。"
      ],
      "metadata": {
        "id": "mXU5TZOeFBGI"
      }
    },
    {
      "cell_type": "code",
      "source": [
        "!git clone https://github.com/hsgw/pcbflow/ -b fix_kicad\n",
        "!cd pcbflow && python setup.py install\n",
        "\n",
        "# from stable defusion\n",
        "# ランタイムを再起動します\n",
        "import os\n",
        "os.kill(os.getpid(), 9) # This will crash Colab (required, everything will still be intact so dont worry)"
      ],
      "metadata": {
        "colab": {
          "base_uri": "https://localhost:8080/"
        },
        "id": "5YjAKjq4FKUh",
        "outputId": "f974f952-bb41-4c6d-da6e-3b63ced1697d"
      },
      "execution_count": null,
      "outputs": [
        {
          "output_type": "stream",
          "name": "stdout",
          "text": [
            "fatal: destination path 'pcbflow' already exists and is not an empty directory.\n",
            "running install\n",
            "running bdist_egg\n",
            "running egg_info\n",
            "writing pcbflow.egg-info/PKG-INFO\n",
            "writing dependency_links to pcbflow.egg-info/dependency_links.txt\n",
            "writing requirements to pcbflow.egg-info/requires.txt\n",
            "writing top-level names to pcbflow.egg-info/top_level.txt\n",
            "adding license file 'LICENSE.md'\n",
            "writing manifest file 'pcbflow.egg-info/SOURCES.txt'\n",
            "installing library code to build/bdist.linux-x86_64/egg\n",
            "running install_lib\n",
            "running build_py\n",
            "creating build/bdist.linux-x86_64/egg\n",
            "creating build/bdist.linux-x86_64/egg/pcbflow\n",
            "copying build/lib/pcbflow/util.py -> build/bdist.linux-x86_64/egg/pcbflow\n",
            "copying build/lib/pcbflow/__init__.py -> build/bdist.linux-x86_64/egg/pcbflow\n",
            "copying build/lib/pcbflow/part.py -> build/bdist.linux-x86_64/egg/pcbflow\n",
            "copying build/lib/pcbflow/route.py -> build/bdist.linux-x86_64/egg/pcbflow\n",
            "copying build/lib/pcbflow/gerber.py -> build/bdist.linux-x86_64/egg/pcbflow\n",
            "creating build/bdist.linux-x86_64/egg/pcbflow/footprints\n",
            "copying build/lib/pcbflow/footprints/soic.py -> build/bdist.linux-x86_64/egg/pcbflow/footprints\n",
            "copying build/lib/pcbflow/footprints/sot.py -> build/bdist.linux-x86_64/egg/pcbflow/footprints\n",
            "copying build/lib/pcbflow/footprints/qfn.py -> build/bdist.linux-x86_64/egg/pcbflow/footprints\n",
            "copying build/lib/pcbflow/footprints/xtal.py -> build/bdist.linux-x86_64/egg/pcbflow/footprints\n",
            "copying build/lib/pcbflow/footprints/pin_header.py -> build/bdist.linux-x86_64/egg/pcbflow/footprints\n",
            "copying build/lib/pcbflow/footprints/bga.py -> build/bdist.linux-x86_64/egg/pcbflow/footprints\n",
            "copying build/lib/pcbflow/footprints/__init__.py -> build/bdist.linux-x86_64/egg/pcbflow/footprints\n",
            "copying build/lib/pcbflow/footprints/special_pcb.py -> build/bdist.linux-x86_64/egg/pcbflow/footprints\n",
            "copying build/lib/pcbflow/footprints/tssop.py -> build/bdist.linux-x86_64/egg/pcbflow/footprints\n",
            "copying build/lib/pcbflow/footprints/special_conn.py -> build/bdist.linux-x86_64/egg/pcbflow/footprints\n",
            "copying build/lib/pcbflow/footprints/smd_discrete.py -> build/bdist.linux-x86_64/egg/pcbflow/footprints\n",
            "copying build/lib/pcbflow/hershey.py -> build/bdist.linux-x86_64/egg/pcbflow\n",
            "copying build/lib/pcbflow/layer.py -> build/bdist.linux-x86_64/egg/pcbflow\n",
            "copying build/lib/pcbflow/kicad.py -> build/bdist.linux-x86_64/egg/pcbflow\n",
            "copying build/lib/pcbflow/sexp_parser.py -> build/bdist.linux-x86_64/egg/pcbflow\n",
            "copying build/lib/pcbflow/board.py -> build/bdist.linux-x86_64/egg/pcbflow\n",
            "copying build/lib/pcbflow/drc.py -> build/bdist.linux-x86_64/egg/pcbflow\n",
            "copying build/lib/pcbflow/eagle.py -> build/bdist.linux-x86_64/egg/pcbflow\n",
            "copying build/lib/pcbflow/draw.py -> build/bdist.linux-x86_64/egg/pcbflow\n",
            "copying build/lib/pcbflow/svgout.py -> build/bdist.linux-x86_64/egg/pcbflow\n",
            "copying build/lib/pcbflow/excellon.py -> build/bdist.linux-x86_64/egg/pcbflow\n",
            "byte-compiling build/bdist.linux-x86_64/egg/pcbflow/util.py to util.cpython-38.pyc\n",
            "byte-compiling build/bdist.linux-x86_64/egg/pcbflow/__init__.py to __init__.cpython-38.pyc\n",
            "byte-compiling build/bdist.linux-x86_64/egg/pcbflow/part.py to part.cpython-38.pyc\n",
            "byte-compiling build/bdist.linux-x86_64/egg/pcbflow/route.py to route.cpython-38.pyc\n",
            "byte-compiling build/bdist.linux-x86_64/egg/pcbflow/gerber.py to gerber.cpython-38.pyc\n",
            "byte-compiling build/bdist.linux-x86_64/egg/pcbflow/footprints/soic.py to soic.cpython-38.pyc\n",
            "byte-compiling build/bdist.linux-x86_64/egg/pcbflow/footprints/sot.py to sot.cpython-38.pyc\n",
            "byte-compiling build/bdist.linux-x86_64/egg/pcbflow/footprints/qfn.py to qfn.cpython-38.pyc\n",
            "byte-compiling build/bdist.linux-x86_64/egg/pcbflow/footprints/xtal.py to xtal.cpython-38.pyc\n",
            "byte-compiling build/bdist.linux-x86_64/egg/pcbflow/footprints/pin_header.py to pin_header.cpython-38.pyc\n",
            "byte-compiling build/bdist.linux-x86_64/egg/pcbflow/footprints/bga.py to bga.cpython-38.pyc\n",
            "byte-compiling build/bdist.linux-x86_64/egg/pcbflow/footprints/__init__.py to __init__.cpython-38.pyc\n",
            "byte-compiling build/bdist.linux-x86_64/egg/pcbflow/footprints/special_pcb.py to special_pcb.cpython-38.pyc\n",
            "byte-compiling build/bdist.linux-x86_64/egg/pcbflow/footprints/tssop.py to tssop.cpython-38.pyc\n",
            "byte-compiling build/bdist.linux-x86_64/egg/pcbflow/footprints/special_conn.py to special_conn.cpython-38.pyc\n",
            "byte-compiling build/bdist.linux-x86_64/egg/pcbflow/footprints/smd_discrete.py to smd_discrete.cpython-38.pyc\n",
            "byte-compiling build/bdist.linux-x86_64/egg/pcbflow/hershey.py to hershey.cpython-38.pyc\n",
            "byte-compiling build/bdist.linux-x86_64/egg/pcbflow/layer.py to layer.cpython-38.pyc\n",
            "byte-compiling build/bdist.linux-x86_64/egg/pcbflow/kicad.py to kicad.cpython-38.pyc\n",
            "byte-compiling build/bdist.linux-x86_64/egg/pcbflow/sexp_parser.py to sexp_parser.cpython-38.pyc\n",
            "byte-compiling build/bdist.linux-x86_64/egg/pcbflow/board.py to board.cpython-38.pyc\n",
            "byte-compiling build/bdist.linux-x86_64/egg/pcbflow/drc.py to drc.cpython-38.pyc\n",
            "byte-compiling build/bdist.linux-x86_64/egg/pcbflow/eagle.py to eagle.cpython-38.pyc\n",
            "byte-compiling build/bdist.linux-x86_64/egg/pcbflow/draw.py to draw.cpython-38.pyc\n",
            "byte-compiling build/bdist.linux-x86_64/egg/pcbflow/svgout.py to svgout.cpython-38.pyc\n",
            "byte-compiling build/bdist.linux-x86_64/egg/pcbflow/excellon.py to excellon.cpython-38.pyc\n",
            "creating build/bdist.linux-x86_64/egg/EGG-INFO\n",
            "installing scripts to build/bdist.linux-x86_64/egg/EGG-INFO/scripts\n",
            "running install_scripts\n",
            "running build_scripts\n",
            "creating build/bdist.linux-x86_64/egg/EGG-INFO/scripts\n",
            "copying build/scripts-3.8/lbrlist.py -> build/bdist.linux-x86_64/egg/EGG-INFO/scripts\n",
            "copying build/scripts-3.8/kilist.py -> build/bdist.linux-x86_64/egg/EGG-INFO/scripts\n",
            "changing mode of build/bdist.linux-x86_64/egg/EGG-INFO/scripts/lbrlist.py to 755\n",
            "changing mode of build/bdist.linux-x86_64/egg/EGG-INFO/scripts/kilist.py to 755\n",
            "copying pcbflow.egg-info/PKG-INFO -> build/bdist.linux-x86_64/egg/EGG-INFO\n",
            "copying pcbflow.egg-info/SOURCES.txt -> build/bdist.linux-x86_64/egg/EGG-INFO\n",
            "copying pcbflow.egg-info/dependency_links.txt -> build/bdist.linux-x86_64/egg/EGG-INFO\n",
            "copying pcbflow.egg-info/requires.txt -> build/bdist.linux-x86_64/egg/EGG-INFO\n",
            "copying pcbflow.egg-info/top_level.txt -> build/bdist.linux-x86_64/egg/EGG-INFO\n",
            "zip_safe flag not set; analyzing archive contents...\n",
            "pcbflow.__pycache__.__init__.cpython-38: module references __file__\n",
            "creating 'dist/pcbflow-0.1.0-py3.8.egg' and adding 'build/bdist.linux-x86_64/egg' to it\n",
            "removing 'build/bdist.linux-x86_64/egg' (and everything under it)\n",
            "Processing pcbflow-0.1.0-py3.8.egg\n",
            "removing '/usr/local/lib/python3.8/dist-packages/pcbflow-0.1.0-py3.8.egg' (and everything under it)\n",
            "creating /usr/local/lib/python3.8/dist-packages/pcbflow-0.1.0-py3.8.egg\n",
            "Extracting pcbflow-0.1.0-py3.8.egg to /usr/local/lib/python3.8/dist-packages\n",
            "pcbflow 0.1.0 is already the active version in easy-install.pth\n",
            "Installing lbrlist.py script to /usr/local/bin\n",
            "Installing kilist.py script to /usr/local/bin\n",
            "\n",
            "Installed /usr/local/lib/python3.8/dist-packages/pcbflow-0.1.0-py3.8.egg\n",
            "Processing dependencies for pcbflow==0.1.0\n",
            "Searching for CairoSVG==2.5.2\n",
            "Best match: CairoSVG 2.5.2\n",
            "Processing CairoSVG-2.5.2-py3.8.egg\n",
            "CairoSVG 2.5.2 is already the active version in easy-install.pth\n",
            "Installing cairosvg script to /usr/local/bin\n",
            "\n",
            "Using /usr/local/lib/python3.8/dist-packages/CairoSVG-2.5.2-py3.8.egg\n",
            "Searching for svgwrite==1.4.3\n",
            "Best match: svgwrite 1.4.3\n",
            "Processing svgwrite-1.4.3-py3.8.egg\n",
            "svgwrite 1.4.3 is already the active version in easy-install.pth\n",
            "\n",
            "Using /usr/local/lib/python3.8/dist-packages/svgwrite-1.4.3-py3.8.egg\n",
            "Searching for Pillow==7.1.2\n",
            "Best match: Pillow 7.1.2\n",
            "Adding Pillow 7.1.2 to easy-install.pth file\n",
            "\n",
            "Using /usr/local/lib/python3.8/dist-packages\n",
            "Searching for pytest==3.6.4\n",
            "Best match: pytest 3.6.4\n",
            "Adding pytest 3.6.4 to easy-install.pth file\n",
            "Installing py.test script to /usr/local/bin\n",
            "Installing pytest script to /usr/local/bin\n",
            "\n",
            "Using /usr/local/lib/python3.8/dist-packages\n",
            "Searching for Shapely==1.8.5.post1\n",
            "Best match: Shapely 1.8.5.post1\n",
            "Processing Shapely-1.8.5.post1-py3.8-linux-x86_64.egg\n",
            "Shapely 1.8.5.post1 is already the active version in easy-install.pth\n",
            "\n",
            "Using /usr/local/lib/python3.8/dist-packages/Shapely-1.8.5.post1-py3.8-linux-x86_64.egg\n",
            "Searching for tinycss2==1.2.1\n",
            "Best match: tinycss2 1.2.1\n",
            "Processing tinycss2-1.2.1-py3.8.egg\n",
            "tinycss2 1.2.1 is already the active version in easy-install.pth\n",
            "\n",
            "Using /usr/local/lib/python3.8/dist-packages/tinycss2-1.2.1-py3.8.egg\n",
            "Searching for defusedxml==0.7.1\n",
            "Best match: defusedxml 0.7.1\n",
            "Adding defusedxml 0.7.1 to easy-install.pth file\n",
            "\n",
            "Using /usr/local/lib/python3.8/dist-packages\n",
            "Searching for cssselect2==0.7.0\n",
            "Best match: cssselect2 0.7.0\n",
            "Processing cssselect2-0.7.0-py3.8.egg\n",
            "cssselect2 0.7.0 is already the active version in easy-install.pth\n",
            "\n",
            "Using /usr/local/lib/python3.8/dist-packages/cssselect2-0.7.0-py3.8.egg\n",
            "Searching for cairocffi==1.4.0\n",
            "Best match: cairocffi 1.4.0\n",
            "Processing cairocffi-1.4.0-py3.8.egg\n",
            "cairocffi 1.4.0 is already the active version in easy-install.pth\n",
            "\n",
            "Using /usr/local/lib/python3.8/dist-packages/cairocffi-1.4.0-py3.8.egg\n",
            "Searching for six==1.15.0\n",
            "Best match: six 1.15.0\n",
            "Adding six 1.15.0 to easy-install.pth file\n",
            "\n",
            "Using /usr/local/lib/python3.8/dist-packages\n",
            "Searching for setuptools==57.4.0\n",
            "Best match: setuptools 57.4.0\n",
            "Adding setuptools 57.4.0 to easy-install.pth file\n",
            "\n",
            "Using /usr/local/lib/python3.8/dist-packages\n",
            "Searching for py==1.11.0\n",
            "Best match: py 1.11.0\n",
            "Adding py 1.11.0 to easy-install.pth file\n",
            "\n",
            "Using /usr/local/lib/python3.8/dist-packages\n",
            "Searching for attrs==22.1.0\n",
            "Best match: attrs 22.1.0\n",
            "Adding attrs 22.1.0 to easy-install.pth file\n",
            "\n",
            "Using /usr/local/lib/python3.8/dist-packages\n",
            "Searching for atomicwrites==1.4.1\n",
            "Best match: atomicwrites 1.4.1\n",
            "Adding atomicwrites 1.4.1 to easy-install.pth file\n",
            "\n",
            "Using /usr/local/lib/python3.8/dist-packages\n",
            "Searching for pluggy==0.7.1\n",
            "Best match: pluggy 0.7.1\n",
            "Adding pluggy 0.7.1 to easy-install.pth file\n",
            "\n",
            "Using /usr/local/lib/python3.8/dist-packages\n",
            "Searching for more-itertools==9.0.0\n",
            "Best match: more-itertools 9.0.0\n",
            "Adding more-itertools 9.0.0 to easy-install.pth file\n",
            "\n",
            "Using /usr/local/lib/python3.8/dist-packages\n",
            "Searching for webencodings==0.5.1\n",
            "Best match: webencodings 0.5.1\n",
            "Adding webencodings 0.5.1 to easy-install.pth file\n",
            "\n",
            "Using /usr/local/lib/python3.8/dist-packages\n",
            "Searching for cffi==1.15.1\n",
            "Best match: cffi 1.15.1\n",
            "Adding cffi 1.15.1 to easy-install.pth file\n",
            "\n",
            "Using /usr/local/lib/python3.8/dist-packages\n",
            "Searching for pycparser==2.21\n",
            "Best match: pycparser 2.21\n",
            "Adding pycparser 2.21 to easy-install.pth file\n",
            "\n",
            "Using /usr/local/lib/python3.8/dist-packages\n",
            "Finished processing dependencies for pcbflow==0.1.0\n"
          ]
        }
      ]
    },
    {
      "cell_type": "code",
      "source": [
        "from pcbflow import *"
      ],
      "metadata": {
        "id": "zZH-ygq3FlJu"
      },
      "execution_count": 2,
      "outputs": []
    },
    {
      "cell_type": "markdown",
      "source": [
        "## 定数を宣言する\n",
        "ネットリストと同じようによく使う値を定数として宣言しておきます。   \n",
        "座標のY軸が反転していて違和感があったので変換するための関数も宣言しています。"
      ],
      "metadata": {
        "id": "qkWfPZF2I37R"
      }
    },
    {
      "cell_type": "code",
      "source": [
        "BOARD_WIDTH = 76.0\n",
        "BOARD_HEIGHT = 57.0\n",
        "\n",
        "KEY_PITCH = 19.0\n",
        "\n",
        "SCREW_HOLE = 2.2\n",
        "\n",
        "LAYER_TOP = \"GTL\"\n",
        "LAYER_BOTTOM = \"GBL\"\n",
        "\n",
        "# Y軸の座標を反転させる関数\n",
        "def pos(x, y):\n",
        "  return (x, BOARD_HEIGHT - y)"
      ],
      "metadata": {
        "id": "a031kS7yJEtJ"
      },
      "execution_count": 3,
      "outputs": []
    },
    {
      "cell_type": "markdown",
      "source": [
        "## 基板と回路の変数を宣言する\n",
        "基板と回路の変数を宣言しておきます。\n",
        "基板はpcbflowのもの、回路はskidlのものです。\n",
        "\n",
        "回路から部品や配線情報を得ます。"
      ],
      "metadata": {
        "id": "K2o9ziq3N2Bb"
      }
    },
    {
      "cell_type": "code",
      "source": [
        "# skidlで作った回路情報\n",
        "circuit = builtins.default_circuit\n",
        "# pcbflowの基板\n",
        "board = Board((BOARD_WIDTH, BOARD_HEIGHT))"
      ],
      "metadata": {
        "colab": {
          "base_uri": "https://localhost:8080/",
          "height": 222
        },
        "id": "8bzraF-yOaIH",
        "outputId": "0fbd7940-6fb5-4ea2-9721-ea88df079cc9"
      },
      "execution_count": 4,
      "outputs": [
        {
          "output_type": "error",
          "ename": "NameError",
          "evalue": "ignored",
          "traceback": [
            "\u001b[0;31m---------------------------------------------------------------------------\u001b[0m",
            "\u001b[0;31mNameError\u001b[0m                                 Traceback (most recent call last)",
            "\u001b[0;32m<ipython-input-4-ab113760945a>\u001b[0m in \u001b[0;36m<module>\u001b[0;34m\u001b[0m\n\u001b[1;32m      1\u001b[0m \u001b[0;31m# skidlで作った回路情報\u001b[0m\u001b[0;34m\u001b[0m\u001b[0;34m\u001b[0m\u001b[0;34m\u001b[0m\u001b[0m\n\u001b[0;32m----> 2\u001b[0;31m \u001b[0mcircuit\u001b[0m \u001b[0;34m=\u001b[0m \u001b[0mbuiltins\u001b[0m\u001b[0;34m.\u001b[0m\u001b[0mdefault_circuit\u001b[0m\u001b[0;34m\u001b[0m\u001b[0;34m\u001b[0m\u001b[0m\n\u001b[0m\u001b[1;32m      3\u001b[0m \u001b[0;31m# pcbflowの基板\u001b[0m\u001b[0;34m\u001b[0m\u001b[0;34m\u001b[0m\u001b[0;34m\u001b[0m\u001b[0m\n\u001b[1;32m      4\u001b[0m \u001b[0mboard\u001b[0m \u001b[0;34m=\u001b[0m \u001b[0mBoard\u001b[0m\u001b[0;34m(\u001b[0m\u001b[0;34m(\u001b[0m\u001b[0mBOARD_WIDTH\u001b[0m\u001b[0;34m,\u001b[0m \u001b[0mBOARD_HEIGHT\u001b[0m\u001b[0;34m)\u001b[0m\u001b[0;34m)\u001b[0m\u001b[0;34m\u001b[0m\u001b[0;34m\u001b[0m\u001b[0m\n",
            "\u001b[0;31mNameError\u001b[0m: name 'builtins' is not defined"
          ]
        }
      ]
    },
    {
      "cell_type": "markdown",
      "source": [
        "## デザインルールを設定する\n",
        "ドリルの大きさや配線の太さなど、基板のデザインルールを設定します。"
      ],
      "metadata": {
        "id": "9nWBUCJJNdgE"
      }
    },
    {
      "cell_type": "code",
      "source": [],
      "metadata": {
        "id": "PdPPua_3Nuoi"
      },
      "execution_count": null,
      "outputs": []
    }
  ],
  "metadata": {
    "colab": {
      "provenance": []
    },
    "kernelspec": {
      "display_name": ".venv",
      "language": "python",
      "name": "python3"
    },
    "language_info": {
      "codemirror_mode": {
        "name": "ipython",
        "version": 3
      },
      "file_extension": ".py",
      "mimetype": "text/x-python",
      "name": "python",
      "nbconvert_exporter": "python",
      "pygments_lexer": "ipython3",
      "version": "3.8.10 (default, Jun 22 2022, 20:18:18) \n[GCC 9.4.0]"
    },
    "vscode": {
      "interpreter": {
        "hash": "b68c839e49670d3aa77ea8bdd6f541fdcce81585b85d6e1d97674ad5f32db92f"
      }
    }
  },
  "nbformat": 4,
  "nbformat_minor": 0
}