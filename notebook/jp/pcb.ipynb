{
  "cells": [
    {
      "cell_type": "markdown",
      "metadata": {
        "id": "view-in-github",
        "colab_type": "text"
      },
      "source": [
        "<a href=\"https://colab.research.google.com/github/hsgw/keyboard-made-by-python/blob/main/notebook/jp/pcb.ipynb\" target=\"_parent\"><img src=\"https://colab.research.google.com/assets/colab-badge.svg\" alt=\"Open In Colab\"/></a>"
      ]
    },
    {
      "cell_type": "markdown",
      "metadata": {
        "id": "g6rr65y7TUEE"
      },
      "source": [
        "# 基板の設計\n",
        "キーボードの基板を設計します。\n",
        "\n",
        "通常の工程で基板を作るにはまず`回路図エディタ`で`回路図`を書いて使用する部品とその結線情報をまとめて`ネットリスト`として出力し、`基板エディタ`を用いて実際に`基板`へ部品を配置・配線します。"
      ]
    },
    {
      "cell_type": "markdown",
      "metadata": {
        "id": "RwgtrhL6DhoQ"
      },
      "source": [
        "# 記事を読むための注意\n",
        "このノートブックには2回実行すると正常に動作しないセルが含まれています。それを防止するために上のメニューから`ランタイム>全てのセルを実行`してから読み始めると良いかもしれません。(実行完了には少し時間がかかります)"
      ]
    },
    {
      "cell_type": "markdown",
      "metadata": {
        "id": "Ancu-CO6W_Y4"
      },
      "source": [
        "# skidlでネットリスト(回路図)を設計する\n",
        "Pythonを使った設計では回路図を書かずにコードで使用する部品と結線情報を定義してネットリストを出力します。\n",
        "\n",
        "[skidl](https://github.com/devbisme/skidl)というライブラリを用います。このライブラリは独自フォーマットの部品ライブラリだけでなく、kicadの部品ライブラリをインポートして使用します。また、ネットリストはkicadのPCBエディタと互換性があり直接kicadへ読み込んで回路図を書くこともできます。\n",
        "\n",
        "- skidl  https://github.com/devbisme/skidl\n",
        "- skidlのドキュメント  https://devbisme.github.io/skidl/"
      ]
    },
    {
      "cell_type": "markdown",
      "source": [
        "## kicadライブラリのダウンロード\n",
        "以下のセルを実行してkicadのライブラリが入ったリポジトリをクローンしておきます。"
      ],
      "metadata": {
        "id": "AXZHkyEGHF9U"
      }
    },
    {
      "cell_type": "code",
      "execution_count": null,
      "metadata": {
        "id": "aSvGlEwZDhoT"
      },
      "outputs": [],
      "source": [
        "!git clone https://github.com/hsgw/keyboard-made-by-python/"
      ]
    },
    {
      "cell_type": "markdown",
      "metadata": {
        "id": "-cW5lSiPYuUS"
      },
      "source": [
        "## skidlのインストールとインポート\n",
        "ノートブック上に[skidl](https://github.com/devbisme/skidl)をインストールしてインポートしておきます。\n",
        "インストールには少し時間がかかるかもしれません。\n",
        "\n",
        "このとき、インストールとインポートは別のセルにしておくと何度もインストールしなくて済むのでセルを分けておきます。"
      ]
    },
    {
      "cell_type": "code",
      "execution_count": null,
      "metadata": {
        "id": "5i-Jvi1XYtsq"
      },
      "outputs": [],
      "source": [
        "!pip install skidl"
      ]
    },
    {
      "cell_type": "code",
      "execution_count": null,
      "metadata": {
        "id": "KMF3_yPHTF0L"
      },
      "outputs": [],
      "source": [
        "from skidl import *\n",
        "# kicadのデフォルトパスが環境変数に設定されていないのでWarningが出ます"
      ]
    },
    {
      "cell_type": "markdown",
      "metadata": {
        "id": "LTeD6nJwogVT"
      },
      "source": [
        "## 定数を宣言する\n",
        "何度も出てくる値を定数として宣言しておきます。この値を使い回すことで変更に強い設計になります。\n"
      ]
    },
    {
      "cell_type": "code",
      "execution_count": null,
      "metadata": {
        "id": "6jwqmkIjo5MH"
      },
      "outputs": [],
      "source": [
        "KEY_COUNT = 10\n",
        "COL_COUNT = 4\n",
        "ROW_COUNT = 3\n",
        "MATRIX_MAP = [\n",
        "        (0,1),(0,2),(0,3),  \n",
        "        (1,1),(1,2),(1,3),\n",
        "  (2,0),(2,1),(2,2),(2,3)\n",
        "]"
      ]
    },
    {
      "cell_type": "markdown",
      "metadata": {
        "id": "QWaPdvrNmmzk"
      },
      "source": [
        "## kicadライブラリの読み込みと部品の準備\n",
        "使用するkicadライブラリのパスを追加をします。\n",
        "\n",
        "kicadがインストールされている環境であれば通常のライブラリへのパスがデフォルトで追加されているはずですが、今回はkicadのインストールされていない環境で実行するために使う部品だけ別に用意しておきます。\n",
        "先程githubからcloneしてきた`keyboard-made-by-python/hardware/kicad_libs`に入っています。\n",
        "\n",
        "シンボルとフットプリントを結びつけて必要な個数だけ部品を用意します。"
      ]
    },
    {
      "cell_type": "code",
      "execution_count": null,
      "metadata": {
        "id": "EjCwQBClnF5q"
      },
      "outputs": [],
      "source": [
        "# 使用するライブラリを登録する\n",
        "# シンボル・フットプリントどちらも別で登録する\n",
        "lib_search_paths[KICAD].append(\"keyboard-made-by-python/hardware/kicad_libs\")\n",
        "footprint_search_paths[KICAD].append(\"keyboard-made-by-python/hardware/kicad_libs/kicad.pretty\")\n",
        "\n",
        "# 同じ部品を何回も使うならシンボルとフットプリントを結びつけたテンプレートとして読み込んでおく\n",
        "diode = Part(\n",
        "  \"kicad_symbols\", \"D_Small_ALT\", TEMPLATE, footprint=\"kicad:D_SOD123_hand\"\n",
        ")\n",
        "switch = Part(\n",
        "  \"kicad_symbols\",\n",
        "  \"SW_Push\",\n",
        "  TEMPLATE,\n",
        "  footprint=\"kicad:SW_Cherry_MX_1.00u_PCB\",\n",
        ")\n",
        "\n",
        "# 宣言した定数とテンプレートを使ってダイオードとスイッチを用意する\n",
        "# それぞれ KEY_COUNT 個用意して配列にいれておく\n",
        "diodes = diode(KEY_COUNT)\n",
        "switches = switch(KEY_COUNT)\n",
        "\n",
        "# ひとつしか使わない部品はそのまま読み込む\n",
        "xiao = Part(\"kicad_symbols\", \"xiao_rp2040\", footprint=\"kicad:xiao_rp2040\")\n",
        "oled = Part(\"kicad_symbols\", \"oled_i2c\", footprint=\"kicad:oled_i2c\")\n",
        "\n",
        "# printするとシンボルのPin情報が見えます\n",
        "print(diode, switch, xiao, oled)"
      ]
    },
    {
      "cell_type": "markdown",
      "metadata": {
        "id": "oG5xuNjqq6qg"
      },
      "source": [
        "## PinやNetを接続する\n",
        "用意した部品のピン同士を接続を入力して回路の構成を定義します。\n",
        "\n",
        "このときなるべく配線自体に`Net`名をつけるようにします。`Net`を基準に`Pin`を繋いでいくことで同じところにつながるもの(電源やスイッチマトリクス)を整理して見やすいコードにします。また、kicadへネットリストをインポートしたときに表示されるので目印にもなります。\n",
        "\n",
        "今回の設計でも基板配線時に`ピン番号`を`Net`から読み出します。"
      ]
    },
    {
      "cell_type": "code",
      "execution_count": null,
      "metadata": {
        "id": "PI9UK581tf5H"
      },
      "outputs": [],
      "source": [
        "# Pin情報を表示しながら配線すると便利\n",
        "print(xiao)"
      ]
    },
    {
      "cell_type": "code",
      "execution_count": null,
      "metadata": {
        "id": "Ufo-bwPNtWzt"
      },
      "outputs": [],
      "source": [
        "# スイッチマトリクスのROW,COLのネットリストが入った配列を作る\n",
        "netRows = [Net(f\"ROW{i}\") for i in range(ROW_COUNT)]\n",
        "netCols = [Net(f\"COL{i}\") for i in range(COL_COUNT)]\n",
        "\n",
        "\n",
        "# ROWのNet -> スイッチの1ピン  スイッチの2ピン -> ダイオードのカソード  ダイオードのアノード -> COLのNet をまとめて宣言する\n",
        "# NetやPinは`&`で繋ぐと接続される\n",
        "# 部品のPinには part[\"pin name\"]でアクセス出来る\n",
        "# 部品のPinの添字を2つにするとinとoutになる\n",
        "# 例: sw[\"1\"]につながるNetかPin & sw[\"1 2\"] & sw[\"2\"]に繋がるNetかPin\n",
        "for sw, d, mapping in zip(switches, diodes, MATRIX_MAP):\n",
        "  netRows[mapping[0]] & sw[\"1 2\"] & d[\"K A\"] & netCols[mapping[1]]\n",
        "\n",
        "# スイッチマトリクスとxiaoを接続する\n",
        "# NetにPinを`+`ことで接続する\n",
        "netCols[0] += xiao[8]\n",
        "netCols[1] += xiao[3]\n",
        "netCols[2] += xiao[4]\n",
        "netCols[3] += xiao[5]\n",
        "\n",
        "netRows[0] += xiao[1]\n",
        "netRows[1] += xiao[6]\n",
        "netRows[2] += xiao[7]\n",
        "\n",
        "# oledとxiaoも接続する\n",
        "# Net(\"3.3V\")みたいに直接Netを宣言して繋いでもOK\n",
        "Net(\"3.3V\") & oled[\"Vcc\"] & xiao[\"3.3V\"]\n",
        "Net(\"GND\") & oled[\"GND\"] & xiao[\"GND\"]\n",
        "Net(\"SDA\") & oled[\"SDA\"] & xiao[9]\n",
        "Net(\"SCL\") & oled[\"SCL\"] & xiao[11]\n",
        "\n",
        "# printすると接続されているPinが表示される\n",
        "print(netRows[0])"
      ]
    },
    {
      "cell_type": "markdown",
      "metadata": {
        "id": "ygS8U7MywJ8k"
      },
      "source": [
        "## ERCとネットリストの出力\n",
        "ERC(Electrical Rule Check・回路図のルールチェック)をかけて、ネットリストを出力します。\n",
        "これで回路図・ネットリストは完成です！"
      ]
    },
    {
      "cell_type": "code",
      "execution_count": null,
      "metadata": {
        "id": "7UCaNTPgwJVV"
      },
      "outputs": [],
      "source": [
        "# 他のセルを複数回実行しているとエラーが出たり回路が複数個になったりするかもしれません\n",
        "# そのときは`メニュー`の`ランタイム -> ランタイムを再起動`して最初からやりなおすか`再起動してすべてのセルを実行`してください\n",
        "# 未結線のWarningが出ますが問題ありません\n",
        "ERC()\n",
        "generate_netlist(file_=\"keyboard.net\")"
      ]
    },
    {
      "cell_type": "markdown",
      "metadata": {
        "id": "5URJ6fd7xzse"
      },
      "source": [
        "出力されたネットリストは今記事では使用しませんが、kicadのpcbnewのネットリスト読み込みからインポートしてそのまま基板を作ることも出来ます。\n",
        "\n",
        "![pcbnewへネットリストをインポートした](https://github.com/hsgw/keyboard-made-by-python/blob/main/notebook/imgs/kicad_pcbnew.png?raw=1)"
      ]
    },
    {
      "cell_type": "markdown",
      "source": [
        "# pcbflowで基板を設計する\n",
        "skidlで設計した結線情報を活用しながら[pcbflow](https://github.com/michaelgale/pcbflow)で実際の基板に部品を配置して配線をします。\n",
        "\n",
        "pcbflowは開発中(?)のようで意図しない動作や不具合があったため修正と追加をしました。今記事ではその[folk](https://github.com/hsgw/pcbflow/tree/fix_kicad)を使用します。\n",
        "\n",
        "- pcbflow https://github.com/michaelgale/pcbflow\n",
        "- pcvflowのドキュメントはREADME.mdにあります\n",
        "- folkして修正したpcbflow https://github.com/hsgw/pcbflow/tree/fix_kicad"
      ],
      "metadata": {
        "id": "rtU9DM-AD2hu"
      }
    },
    {
      "cell_type": "markdown",
      "source": [
        "## pcbflowのダウンロードとインストール\n",
        "以下のセルを実行してインストールします。\n",
        "インポートしてエラーがないことを確認します。"
      ],
      "metadata": {
        "id": "mXU5TZOeFBGI"
      }
    },
    {
      "cell_type": "code",
      "source": [
        "!git clone https://github.com/hsgw/pcbflow/ -b fix_kicad\n",
        "!cd pcbflow && python setup.py install\n",
        "\n",
        "# from stable defusion\n",
        "# ランタイムを再起動します\n",
        "import os\n",
        "os.kill(os.getpid(), 9) # This will crash Colab (required, everything will still be intact so dont worry)"
      ],
      "metadata": {
        "id": "5YjAKjq4FKUh"
      },
      "execution_count": null,
      "outputs": []
    },
    {
      "cell_type": "code",
      "source": [
        "from pcbflow import *"
      ],
      "metadata": {
        "id": "zZH-ygq3FlJu"
      },
      "execution_count": null,
      "outputs": []
    },
    {
      "cell_type": "markdown",
      "source": [
        "## 定数を宣言する\n",
        "ネットリストと同じようによく使う値を定数として宣言しておきます。   \n",
        "座標のY軸が反転していて違和感があったので変換するための関数も宣言しています。"
      ],
      "metadata": {
        "id": "qkWfPZF2I37R"
      }
    },
    {
      "cell_type": "code",
      "source": [
        "BOARD_WIDTH = 76.0\n",
        "BOARD_HEIGHT = 57.0\n",
        "\n",
        "KEY_PITCH = 19.0\n",
        "\n",
        "SCREW_HOLE = 2.2\n",
        "\n",
        "LAYER_TOP = \"GTL\"\n",
        "LAYER_BOTTOM = \"GBL\"\n",
        "\n",
        "# Y軸の座標を反転させる関数\n",
        "def pos(x, y):\n",
        "  return (x, BOARD_HEIGHT - y)"
      ],
      "metadata": {
        "id": "a031kS7yJEtJ"
      },
      "execution_count": null,
      "outputs": []
    },
    {
      "cell_type": "markdown",
      "source": [
        "## 基板と回路の変数を宣言する\n",
        "基板と回路の変数を宣言しておきます。\n",
        "基板はpcbflowのもの、回路はskidlのものです。\n",
        "\n",
        "回路から部品や配線情報を得ます。"
      ],
      "metadata": {
        "id": "K2o9ziq3N2Bb"
      }
    },
    {
      "cell_type": "code",
      "source": [
        "# skidlで作った回路情報\n",
        "circuit = builtins.default_circuit\n",
        "# pcbflowの基板\n",
        "board = Board((BOARD_WIDTH, BOARD_HEIGHT))"
      ],
      "metadata": {
        "id": "8bzraF-yOaIH"
      },
      "execution_count": null,
      "outputs": []
    },
    {
      "cell_type": "markdown",
      "source": [
        "## デザインルールを設定する\n",
        "ドリルの大きさや配線の太さなど、基板のデザインルールを設定します。"
      ],
      "metadata": {
        "id": "9nWBUCJJNdgE"
      }
    },
    {
      "cell_type": "code",
      "source": [],
      "metadata": {
        "id": "PdPPua_3Nuoi"
      },
      "execution_count": null,
      "outputs": []
    }
  ],
  "metadata": {
    "colab": {
      "provenance": [],
      "include_colab_link": true
    },
    "kernelspec": {
      "display_name": ".venv",
      "language": "python",
      "name": "python3"
    },
    "language_info": {
      "codemirror_mode": {
        "name": "ipython",
        "version": 3
      },
      "file_extension": ".py",
      "mimetype": "text/x-python",
      "name": "python",
      "nbconvert_exporter": "python",
      "pygments_lexer": "ipython3",
      "version": "3.8.10 (default, Jun 22 2022, 20:18:18) \n[GCC 9.4.0]"
    },
    "vscode": {
      "interpreter": {
        "hash": "b68c839e49670d3aa77ea8bdd6f541fdcce81585b85d6e1d97674ad5f32db92f"
      }
    }
  },
  "nbformat": 4,
  "nbformat_minor": 0
}