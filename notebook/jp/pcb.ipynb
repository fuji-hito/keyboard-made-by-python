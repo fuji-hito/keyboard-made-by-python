{
  "cells": [
    {
      "cell_type": "markdown",
      "metadata": {
        "id": "g6rr65y7TUEE"
      },
      "source": [
        "# 基板の設計\n",
        "キーボードの基板を設計します。通常の工程で基板を作るにはまず`回路図エディタ`で`回路図`を書いて使用する部品とその結線情報をまとめて`ネットリスト`として出力し、`基板エディタ`を用いて実際に`基板`へ部品を配置・配線します。"
      ]
    },
    {
      "cell_type": "markdown",
      "metadata": {
        "id": "Ancu-CO6W_Y4"
      },
      "source": [
        "# skidlでネットリスト(回路図)を設計する\n",
        "Pythonを使った設計では回路図を書かずにコードで使用する部品と結線情報を定義してネットリストを出力します。[skidl](https://github.com/devbisme/skidl)というライブラリを用います。このライブラリは独自フォーマットの部品ライブラリだけでなく、kicadの部品ライブラリをインポートして使用します。また、ネットリストはkicadのPCBエディタと互換性があり直接kicadへ読み込んで回路図を書くこともできます。\n",
        "\n",
        "- skidl  https://github.com/devbisme/skidl\n",
        "- skidlのドキュメント  https://devbisme.github.io/skidl/\n",
        "\n",
        "早速、`skidl`をインストールして設計をはじめましょう。"
      ]
    },
    {
      "cell_type": "markdown",
      "metadata": {
        "id": "-cW5lSiPYuUS"
      },
      "source": [
        "## skidlのインストールとインポート\n",
        "ノートブック上に[skidl](https://github.com/devbisme/skidl)をインストールしてインポートしておきます。\n",
        "このとき、インストールとインポートは別のセルにしておくと何度もインストールしなくて済むのでセルを分けておきます。\n",
        "インストールには少し時間がかかるかもしれません。"
      ]
    },
    {
      "cell_type": "code",
      "execution_count": null,
      "metadata": {
        "colab": {
          "base_uri": "https://localhost:8080/"
        },
        "id": "5i-Jvi1XYtsq",
        "outputId": "440d57ff-b442-4587-803b-6fb2f06f019f"
      },
      "outputs": [],
      "source": [
        "!pip install skidl"
      ]
    },
    {
      "cell_type": "code",
      "execution_count": null,
      "metadata": {
        "colab": {
          "base_uri": "https://localhost:8080/"
        },
        "id": "KMF3_yPHTF0L",
        "outputId": "0ffc5f37-d0fe-4c76-c494-f64f65bb9429"
      },
      "outputs": [],
      "source": [
        "from skidl import *\n",
        "# kicadのデフォルトパスが環境変数に設定されていないのでWarningが出ます"
      ]
    },
    {
      "cell_type": "markdown",
      "metadata": {
        "id": "LTeD6nJwogVT"
      },
      "source": [
        "## 定数を宣言しておく\n",
        "何度も出てくる値を定数として宣言しておきます。この値を使い回すことで変更に強い設計になります。\n"
      ]
    },
    {
      "cell_type": "code",
      "execution_count": null,
      "metadata": {
        "id": "6jwqmkIjo5MH"
      },
      "outputs": [],
      "source": [
        "KEY_COUNT = 10\n",
        "COL_COUNT = 4\n",
        "ROW_COUNT = 3\n",
        "MATRIX_MAP = [\n",
        "        (0,1),(0,2),(0,3),  \n",
        "        (1,1),(1,2),(1,3),\n",
        "  (2,0),(2,1),(2,2),(2,3)\n",
        "]"
      ]
    },
    {
      "cell_type": "markdown",
      "metadata": {
        "id": "0I6AiTtsZ3YS"
      },
      "source": [
        "## kicadライブラリの追加\n",
        "使用するkicadライブラリの追加をします。\n",
        "\n",
        "kicadがインストールされている環境であれば通常のライブラリへのパスがデフォルトで追加されているはずですが、今回はkicadのインストールされていない環境で実行するために使う部品だけ別に用意しておきます。\n",
        "\n",
        "回路図用のシンボル、基板用のフットプリント共に必要です。\n",
        "\n",
        "次のセルを実行するとgithubリポジトリをクローンして必要なファイルをノートブックから読み出せるように準備します。\n"
      ]
    },
    {
      "cell_type": "code",
      "execution_count": null,
      "metadata": {
        "colab": {
          "base_uri": "https://localhost:8080/"
        },
        "id": "fcZd_3VrazAw",
        "outputId": "48e39c64-41b9-4825-f3b4-c931faaf43bc"
      },
      "outputs": [],
      "source": [
        "!git clone https://github.com/hsgw/keyboard-made-by-python/"
      ]
    },
    {
      "cell_type": "markdown",
      "metadata": {
        "id": "QWaPdvrNmmzk"
      },
      "source": [
        "## kicadライブラリの読み込みと部品の準備\n",
        "kicadライブラリを読み込んでシンボルとフットプリントを結びつけ、必要な個数だけ部品を用意します。"
      ]
    },
    {
      "cell_type": "code",
      "execution_count": null,
      "metadata": {
        "colab": {
          "base_uri": "https://localhost:8080/"
        },
        "id": "EjCwQBClnF5q",
        "outputId": "c25cc23f-f5c5-4eb6-a45c-214b81d9eec9"
      },
      "outputs": [],
      "source": [
        "# 使用するライブラリを登録する\n",
        "# シンボル・フットプリントどちらも別で登録する\n",
        "lib_search_paths[KICAD].append(\"keyboard-made-by-python/hardware/kicad_libs\")\n",
        "footprint_search_paths[KICAD].append(\"keyboard-made-by-python/hardware/kicad_libs/kicad.pretty\")\n",
        "\n",
        "# 同じ部品を何回も使うならシンボルとフットプリントを結びつけたテンプレートとして読み込んでおく\n",
        "diode = Part(\n",
        "  \"kicad_symbols\", \"D_Small_ALT\", TEMPLATE, footprint=\"kicad:D_SOD123_hand\"\n",
        ")\n",
        "switch = Part(\n",
        "  \"kicad_symbols\",\n",
        "  \"SW_Push\",\n",
        "  TEMPLATE,\n",
        "  footprint=\"kicad:SW_Cherry_MX_1.00u_PCB\",\n",
        ")\n",
        "\n",
        "# 宣言した定数とテンプレートを使ってダイオードとスイッチを用意する\n",
        "# それぞれ KEY_COUNT 個用意して配列にいれておく\n",
        "diodes = diode(KEY_COUNT)\n",
        "switches = switch(KEY_COUNT)\n",
        "\n",
        "# ひとつしか使わない部品はそのまま読み込む\n",
        "xiao = Part(\"kicad_symbols\", \"xiao_rp2040\", footprint=\"kicad:xiao_rp2040\")\n",
        "oled = Part(\"kicad_symbols\", \"oled_i2c\", footprint=\"kicad:oled_i2c\")\n",
        "\n",
        "# printするとシンボルのピン情報が見えます\n",
        "print(diode, switch, xiao, oled)"
      ]
    },
    {
      "cell_type": "markdown",
      "metadata": {
        "id": "oG5xuNjqq6qg"
      },
      "source": [
        "## ピンやネットを接続する\n",
        "用意した部品のピン同士を接続を入力して回路の構成を定義します。\n",
        "\n",
        "このときなるべく配線自体に`Net`名をつけるようにします。`Net`を基準にピンを繋いでいくことで同じところにつながるもの(電源やスイッチマトリクス)を整理して見やすいコードにします。また、kicadへネットリストをインポートしたときに表示されるので目印にもなります。\n",
        "\n",
        "今回の設計でも基板配線時にピン番号を`Net`から読み出します。"
      ]
    },
    {
      "cell_type": "code",
      "execution_count": null,
      "metadata": {
        "colab": {
          "base_uri": "https://localhost:8080/"
        },
        "id": "PI9UK581tf5H",
        "outputId": "c86e8096-8310-430a-f7a5-b1d705470998"
      },
      "outputs": [],
      "source": [
        "# ピン情報を表示しながら配線すると便利\n",
        "print(xiao)"
      ]
    },
    {
      "cell_type": "code",
      "execution_count": null,
      "metadata": {
        "colab": {
          "base_uri": "https://localhost:8080/"
        },
        "id": "Ufo-bwPNtWzt",
        "outputId": "98b89d38-331b-4049-b75b-f6155c6b10ed"
      },
      "outputs": [],
      "source": [
        "# スイッチマトリクスのROW,COLのネットリストが入った配列を作る\n",
        "netRows = [Net(f\"ROW{i}\") for i in range(ROW_COUNT)]\n",
        "netCols = [Net(f\"COL{i}\") for i in range(COL_COUNT)]\n",
        "\n",
        "\n",
        "# ROW -> スイッチの1ピン -> スイッチの2ピン -> ダイオードのカソード -> ダイオードのアノード -> COL をまとめて宣言する\n",
        "# Netやピンは & で繋ぐと接続される\n",
        "# 部品のピンには part[pin no]でアクセス出来る\n",
        "# 部品のピンの添字を2つにするとinとoutになる\n",
        "# sw[\"1\"]につながるNetかpin & sw[\"1 2\"] & sw[\"2\"]に繋がるNetかpin\n",
        "for sw, d, mapping in zip(switches, diodes, MATRIX_MAP):\n",
        "  netRows[mapping[0]] & sw[\"1 2\"] & d[\"K A\"] & netCols[mapping[1]]\n",
        "\n",
        "# スイッチマトリクスとxiaoを接続する\n",
        "netCols[0] += xiao[8]\n",
        "netCols[1] += xiao[3]\n",
        "netCols[2] += xiao[4]\n",
        "netCols[3] += xiao[5]\n",
        "\n",
        "netRows[0] += xiao[1]\n",
        "netRows[1] += xiao[6]\n",
        "netRows[2] += xiao[7]\n",
        "\n",
        "# oledとxiaoも接続する\n",
        "# Net(\"3.3V\")みたいに直接宣言して繋いでもOK\n",
        "Net(\"3.3V\") & oled[\"Vcc\"] & xiao[\"3.3V\"]\n",
        "Net(\"GND\") & oled[\"GND\"] & xiao[\"GND\"]\n",
        "Net(\"SDA\") & oled[\"SDA\"] & xiao[9]\n",
        "Net(\"SCL\") & oled[\"SCL\"] & xiao[11]\n",
        "\n",
        "# printすると接続されているピンが表示される\n",
        "print(netRows[0])"
      ]
    },
    {
      "cell_type": "markdown",
      "metadata": {
        "id": "ygS8U7MywJ8k"
      },
      "source": [
        "## ERCとネットリストの出力\n",
        "ERC(Electrical Rule Check・回路図のルールチェック)を書けて、ネットリストを出力します。"
      ]
    },
    {
      "cell_type": "code",
      "execution_count": null,
      "metadata": {
        "colab": {
          "base_uri": "https://localhost:8080/",
          "height": 435
        },
        "id": "7UCaNTPgwJVV",
        "outputId": "f2214296-2b16-427d-faf2-9cfc4ace3272"
      },
      "outputs": [],
      "source": [
        "# 他のセルを複数回実行しているとエラーが出たり回路が複数個になったりするかもしれません\n",
        "# そのときは`メニュー`の`ランタイム -> ランタイムを再起動`して最初からやりなおすか`再起動してすべてのセルを実行`してください\n",
        "ERC()\n",
        "generate_netlist(file_=\"keyboard.net\")"
      ]
    },
    {
      "cell_type": "markdown",
      "metadata": {
        "id": "5URJ6fd7xzse"
      },
      "source": [
        "出力されたネットリストはkicadのpcbnewのネットリスト読み込みからインポートしてそのまま基板を作ることも出来ます。"
      ]
    }
  ],
  "metadata": {
    "colab": {
      "provenance": [],
      "toc_visible": true
    },
    "kernelspec": {
      "display_name": ".venv",
      "language": "python",
      "name": "python3"
    },
    "language_info": {
      "codemirror_mode": {
        "name": "ipython",
        "version": 3
      },
      "file_extension": ".py",
      "mimetype": "text/x-python",
      "name": "python",
      "nbconvert_exporter": "python",
      "pygments_lexer": "ipython3",
      "version": "3.8.10"
    },
    "vscode": {
      "interpreter": {
        "hash": "b68c839e49670d3aa77ea8bdd6f541fdcce81585b85d6e1d97674ad5f32db92f"
      }
    }
  },
  "nbformat": 4,
  "nbformat_minor": 0
}
